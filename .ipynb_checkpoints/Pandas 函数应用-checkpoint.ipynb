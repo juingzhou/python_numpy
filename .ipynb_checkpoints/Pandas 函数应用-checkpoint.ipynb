{
 "cells": [
  {
   "cell_type": "code",
   "execution_count": null,
   "metadata": {},
   "outputs": [],
   "source": [
    "'''\n",
    "要将自己或者其他库的函数应用于Pandas函数，可以使用下列三个DataFrame的方法\n",
    "1.表格函数应用 pipe()\n",
    "2.行或列函数应用 apply()\n",
    "3.元素函数应用 applymap()\n",
    "'''"
   ]
  },
  {
   "cell_type": "code",
   "execution_count": 3,
   "metadata": {},
   "outputs": [
    {
     "name": "stdout",
     "output_type": "stream",
     "text": [
      "       col1      col2      col3\n",
      "0  2.233976  2.922264  2.525453\n",
      "1  2.832797  4.149414  1.799494\n",
      "2 -0.601334  3.194323  1.329670\n",
      "3  2.589804  0.851703  2.183837\n",
      "4  1.414466  0.984067  3.234336\n"
     ]
    }
   ],
   "source": [
    "# 表格函数应用\n",
    "#  可以通过将函数和适当数量的参数作为管道参数来执行自定义操作\n",
    "\n",
    "# example 为DataFrame中的所有元素相加一个值2\n",
    "\n",
    "# 加法器函数，将两个函数值作为参数添加并返回总和\n",
    "\n",
    "import pandas as pd\n",
    "import numpy as np\n",
    "def add(ele1,ele2):\n",
    "    return ele1 + ele2\n",
    "\n",
    "df = pd.DataFrame(np.random.randn(5,3),columns=['col1','col2','col3'])\n",
    "print(df.pipe(add,2)) # 将所有的元素加2并输出\n"
   ]
  },
  {
   "cell_type": "code",
   "execution_count": 22,
   "metadata": {},
   "outputs": [
    {
     "name": "stdout",
     "output_type": "stream",
     "text": [
      "       col1      col2      col3\n",
      "0  2.083617  0.382569  0.863518\n",
      "1  1.192308  0.425376  0.420879\n",
      "2 -0.958290  0.288381 -0.229311\n",
      "3  0.048182  0.411288 -1.243074\n",
      "4  1.845222  0.406036 -0.031713\n"
     ]
    }
   ],
   "source": [
    "# 行或列函数应用，可以使用apply() 方法沿DataFrame或Panel的轴应用任意函数，它与描述性统计方法一样，采用可选的轴参数，默认情况下，操作按列执行，将每列列为数组\n",
    "import numpy as np\n",
    "import pandas as pd\n",
    "df = pd.DataFrame(np.random.randn(5,3),columns=['col1','col2','col3'])\n",
    "df.apply(np.mean) # 每列的平均数\n",
    "print(df)"
   ]
  },
  {
   "cell_type": "code",
   "execution_count": 20,
   "metadata": {},
   "outputs": [
    {
     "name": "stdout",
     "output_type": "stream",
     "text": [
      "       col1      col2      col3\n",
      "0  2.053462  0.198066 -2.191753\n",
      "1  0.058595 -2.576950 -1.492335\n",
      "2  1.259645  0.572477 -0.050752\n",
      "3  0.256032 -0.621593 -0.184602\n",
      "4  0.855041 -0.076045  0.152699\n"
     ]
    }
   ],
   "source": [
    "import numpy as np\n",
    "import pandas as pd\n",
    "df = pd.DataFrame(np.random.randn(5,3),columns=['col1','col2','col3'])\n",
    "df.apply(np.mean,axis=1)# 每行的平均数\n",
    "print(df)"
   ]
  },
  {
   "cell_type": "code",
   "execution_count": 21,
   "metadata": {},
   "outputs": [
    {
     "name": "stdout",
     "output_type": "stream",
     "text": [
      "       col1      col2      col3\n",
      "0  2.003993  0.506841 -1.604564\n",
      "1 -0.577196 -0.835426  0.810273\n",
      "2 -0.638941 -1.009824  0.946298\n",
      "3  0.815869 -0.919359 -0.491926\n",
      "4  0.533508  0.249349 -0.264599\n"
     ]
    }
   ],
   "source": [
    "import numpy as np\n",
    "import pandas as pd\n",
    "df = pd.DataFrame(np.random.randn(5,3),columns=['col1','col2','col3'])\n",
    "df.apply(lambda x: x.max() - x.min())\n",
    "print(df)"
   ]
  },
  {
   "cell_type": "code",
   "execution_count": 24,
   "metadata": {},
   "outputs": [
    {
     "name": "stdout",
     "output_type": "stream",
     "text": [
      "       col1      col2      col3\n",
      "0  1.053575  0.387999 -0.691051\n",
      "1 -0.589946  0.465034  0.462965\n",
      "2  0.047530 -2.523828  0.189074\n",
      "3 -0.481536  0.260855  0.887327\n",
      "4  1.174211  0.380557 -1.859000\n",
      "--------------------------------------------------\n",
      "       col1      col2      col3\n",
      "0  1.053575  0.387999 -0.691051\n",
      "1 -0.589946  0.465034  0.462965\n",
      "2  0.047530 -2.523828  0.189074\n",
      "3 -0.481536  0.260855  0.887327\n",
      "4  1.174211  0.380557 -1.859000\n"
     ]
    }
   ],
   "source": [
    "# applymap()  \n",
    "# 并不是所有的函数都可以向量化(也不是返回另一个数组的NumPy数组，也不是任何值)，\n",
    "# 在DataFrame上的方法applymap()和类似地在Series上的map()接受任何Python函数，并且\n",
    "# 返回单个值。\n",
    "import pandas as pd\n",
    "import numpy as np\n",
    "df = pd.DataFrame(np.random.randn(5,3),columns=['col1','col2','col3'])\n",
    "print(df)\n",
    "print('-----'*10)\n",
    "# My custom function\n",
    "df['col1'].map(lambda x:x*100)\n",
    "print (df)"
   ]
  },
  {
   "cell_type": "code",
   "execution_count": 27,
   "metadata": {},
   "outputs": [
    {
     "name": "stdout",
     "output_type": "stream",
     "text": [
      "       col1      col2      col3\n",
      "0  1.178915  1.554090  0.704051\n",
      "1  0.881298  0.677854 -0.605679\n",
      "2 -0.630652 -1.406972 -1.101252\n",
      "3  0.166861  0.703043 -0.746949\n",
      "4 -1.123114  0.039726 -0.168670\n"
     ]
    }
   ],
   "source": [
    "import pandas as pd\n",
    "import numpy as np\n",
    "\n",
    "# My custom function\n",
    "df = pd.DataFrame(np.random.randn(5,3),columns=['col1','col2','col3'])\n",
    "df.applymap(lambda x:x*100)\n",
    "print (df)"
   ]
  }
 ],
 "metadata": {
  "kernelspec": {
   "display_name": "Python 3",
   "language": "python",
   "name": "python3"
  },
  "language_info": {
   "codemirror_mode": {
    "name": "ipython",
    "version": 3
   },
   "file_extension": ".py",
   "mimetype": "text/x-python",
   "name": "python",
   "nbconvert_exporter": "python",
   "pygments_lexer": "ipython3",
   "version": "3.6.4"
  }
 },
 "nbformat": 4,
 "nbformat_minor": 2
}
