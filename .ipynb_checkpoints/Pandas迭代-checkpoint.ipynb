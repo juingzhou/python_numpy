{
 "cells": [
  {
   "cell_type": "code",
   "execution_count": null,
   "metadata": {},
   "outputs": [],
   "source": [
    "'''\n",
    "Pandas对象之间的基本迭代的行为取决于类型。当迭代一个系列时，它被视为数组式，基本\n",
    "迭代产生这些值。其他数据结构，如：DataFrame和Panel，遵循类似惯例迭代对象的键。\n",
    "简而言之，基本迭代(对于i在对象中)产生:\n",
    "    1.Series - 值\n",
    "    2.DataFrame - 列标签\n",
    "    3.Pannel - 项目标签\n",
    "'''"
   ]
  },
  {
   "cell_type": "code",
   "execution_count": 1,
   "metadata": {},
   "outputs": [
    {
     "name": "stdout",
     "output_type": "stream",
     "text": [
      "A\n",
      "x\n",
      "y\n",
      "C\n",
      "D\n"
     ]
    }
   ],
   "source": [
    "# 迭代DataFrame\n",
    "# 迭代DataFrame 提供列名\n",
    "import pandas as pd\n",
    "import numpy as np\n",
    "\n",
    "N=20\n",
    "\n",
    "df = pd.DataFrame({\n",
    "    'A': pd.date_range(start='2016-01-01',periods=N,freq='D'),\n",
    "    'x': np.linspace(0,stop=N-1,num=N),\n",
    "    'y': np.random.rand(N),\n",
    "    'C': np.random.choice(['Low','Medium','High'],N).tolist(),\n",
    "    'D': np.random.normal(100, 10, size=(N)).tolist()\n",
    "    })\n",
    "\n",
    "for col in df:\n",
    "   print (col)"
   ]
  },
  {
   "cell_type": "code",
   "execution_count": null,
   "metadata": {},
   "outputs": [],
   "source": [
    "'''\n",
    "要遍历数据帧(DataFrame)中的行，可以使用以下函数:\n",
    "    1.iteritems() - 迭代(key，value)对\n",
    "    2.iterrows() - 将行迭代为(索引，系列)对\n",
    "    3.itertuples() - 以namedtuples的形式迭代行\n",
    "'''"
   ]
  },
  {
   "cell_type": "code",
   "execution_count": 3,
   "metadata": {},
   "outputs": [
    {
     "name": "stdout",
     "output_type": "stream",
     "text": [
      "col1 0    0.249366\n",
      "1    1.392427\n",
      "2   -0.853800\n",
      "3    0.564505\n",
      "Name: col1, dtype: float64\n",
      "col2 0   -0.365649\n",
      "1    1.257594\n",
      "2    0.227465\n",
      "3    0.563868\n",
      "Name: col2, dtype: float64\n",
      "col3 0   -1.250930\n",
      "1   -1.717263\n",
      "2   -0.130490\n",
      "3   -0.251159\n",
      "Name: col3, dtype: float64\n"
     ]
    }
   ],
   "source": [
    "# iteritems() 将每个列作为键，将值与值作为键和列值迭代为Series对象，单独迭代每个列作为系列中的键值对\n",
    "import pandas as pd\n",
    "import numpy as np\n",
    "\n",
    "df = pd.DataFrame(np.random.randn(4,3),columns=['col1','col2','col3'])\n",
    "for key,value in df.iteritems():\n",
    "   print (key,value)"
   ]
  },
  {
   "cell_type": "code",
   "execution_count": 5,
   "metadata": {},
   "outputs": [
    {
     "name": "stdout",
     "output_type": "stream",
     "text": [
      "0 col1    0.251203\n",
      "col2   -0.079055\n",
      "col3   -1.631583\n",
      "Name: 0, dtype: float64\n",
      "1 col1   -1.843991\n",
      "col2    0.320257\n",
      "col3   -1.078194\n",
      "Name: 1, dtype: float64\n",
      "2 col1   -0.001489\n",
      "col2    0.657456\n",
      "col3    1.644389\n",
      "Name: 2, dtype: float64\n",
      "3 col1   -1.800872\n",
      "col2    0.254387\n",
      "col3   -1.363497\n",
      "Name: 3, dtype: float64\n"
     ]
    }
   ],
   "source": [
    "# iterrows() 返回迭代器 =，产生每个索引值以及包含每行数据的序列\n",
    "import pandas as pd\n",
    "import numpy as np\n",
    "\n",
    "df = pd.DataFrame(np.random.randn(4,3),columns = ['col1','col2','col3'])\n",
    "for row_index,row in df.iterrows():\n",
    "   print (row_index,row)\n",
    "# 由于iterrows()遍历行，因此不会跨该行保留数据类型。0,1,2是行索引，col1，col2，col3是列索引"
   ]
  },
  {
   "cell_type": "code",
   "execution_count": 9,
   "metadata": {},
   "outputs": [
    {
     "name": "stdout",
     "output_type": "stream",
     "text": [
      "Pandas(Index=0, col1=-0.4282898319844832, col2=1.3574015917931395, col3=-1.027512652938967)\n",
      "Pandas(Index=1, col1=1.4891570864091994, col2=-1.1010007590651494, col3=-0.13998267799836175)\n",
      "Pandas(Index=2, col1=-0.7357977694910255, col2=0.5677452882218071, col3=-1.017650892491355)\n",
      "Pandas(Index=3, col1=1.2333978650863027, col2=0.33146867917621536, col3=-0.08367433670203753)\n",
      "       col1      col2      col3\n",
      "0  0.213632 -0.463274 -2.734760\n",
      "1 -0.113822  0.130594 -0.798658\n",
      "2 -0.351115 -0.694644  0.722309\n",
      "3  0.746832  0.178098  0.365050\n"
     ]
    }
   ],
   "source": [
    "# itertuples()  \n",
    "# itertuples()方法将为DataFrame中的每一行返回一个产生一个元组类型的迭代器。\n",
    "# 元组的第一个元素将是行的相应索引值，而剩余的值是行值\n",
    "import pandas as pd\n",
    "import numpy as np\n",
    "\n",
    "df = pd.DataFrame(np.random.randn(4,3),columns = ['col1','col2','col3'])\n",
    "for row in df.itertuples():\n",
    "    print (row)\n",
    "    \n",
    "# 不要尝试再迭代时修改任何对象。迭代是用于读取，迭代器返回原始对\n",
    "# 象(视图)的副本，因此更改将不会反映在原始对象上\n",
    "df = pd.DataFrame(np.random.randn(4,3),columns = ['col1','col2','col3'])\n",
    "\n",
    "for index, row in df.iterrows():\n",
    "   row['a'] = 10\n",
    "print (df)# 输出看到，修改并没有反映出来"
   ]
  },
  {
   "cell_type": "code",
   "execution_count": null,
   "metadata": {},
   "outputs": [],
   "source": []
  }
 ],
 "metadata": {
  "kernelspec": {
   "display_name": "Python 3",
   "language": "python",
   "name": "python3"
  },
  "language_info": {
   "codemirror_mode": {
    "name": "ipython",
    "version": 3
   },
   "file_extension": ".py",
   "mimetype": "text/x-python",
   "name": "python",
   "nbconvert_exporter": "python",
   "pygments_lexer": "ipython3",
   "version": "3.6.4"
  }
 },
 "nbformat": 4,
 "nbformat_minor": 2
}
