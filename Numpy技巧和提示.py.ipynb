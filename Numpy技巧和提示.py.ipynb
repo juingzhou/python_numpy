{
 "cells": [
  {
   "cell_type": "code",
   "execution_count": 2,
   "metadata": {},
   "outputs": [],
   "source": [
    "#  \"自动\"重定义数组形状\n",
    "import numpy as np\n",
    "a = np.arange(30)\n",
    "a.shape = 2,-1,3"
   ]
  },
  {
   "cell_type": "code",
   "execution_count": 3,
   "metadata": {},
   "outputs": [
    {
     "data": {
      "text/plain": [
       "(2, 5, 3)"
      ]
     },
     "execution_count": 3,
     "metadata": {},
     "output_type": "execute_result"
    }
   ],
   "source": [
    "a.shape"
   ]
  },
  {
   "cell_type": "code",
   "execution_count": 4,
   "metadata": {},
   "outputs": [
    {
     "data": {
      "text/plain": [
       "array([[[ 0,  1,  2],\n",
       "        [ 3,  4,  5],\n",
       "        [ 6,  7,  8],\n",
       "        [ 9, 10, 11],\n",
       "        [12, 13, 14]],\n",
       "\n",
       "       [[15, 16, 17],\n",
       "        [18, 19, 20],\n",
       "        [21, 22, 23],\n",
       "        [24, 25, 26],\n",
       "        [27, 28, 29]]])"
      ]
     },
     "execution_count": 4,
     "metadata": {},
     "output_type": "execute_result"
    }
   ],
   "source": [
    "a"
   ]
  },
  {
   "cell_type": "code",
   "execution_count": 7,
   "metadata": {},
   "outputs": [
    {
     "name": "stdout",
     "output_type": "stream",
     "text": [
      "[[0 2 4 6 8]\n",
      " [0 1 2 3 4]]\n",
      "------------------------------\n",
      "[0 2 4 6 8 0 1 2 3 4]\n"
     ]
    }
   ],
   "source": [
    "# 向量堆叠\n",
    "import numpy as np\n",
    "x = np.arange(0,10,2)\n",
    "y = np.arange(5)\n",
    "m = np.vstack([x,y])  # 垂直方向堆叠\n",
    "print(m)\n",
    "print(\"---\"*10)\n",
    "xy = np.hstack([x,y]) # 水平方向堆叠\n",
    "print(xy)"
   ]
  },
  {
   "cell_type": "code",
   "execution_count": 8,
   "metadata": {},
   "outputs": [
    {
     "name": "stdout",
     "output_type": "stream",
     "text": [
      "[1.29517369 2.54997857 1.52817365 ... 1.05479102 2.31722613 1.82795658]\n"
     ]
    }
   ],
   "source": [
    "# 直方图\n",
    "# NumPy的 histogram 函数应用于一个数组，并返回一对向量：数组的histogram和向量的bin\n",
    "# matplotlib 也具有构建histograms的函数（在Matlab中称为 hist ），它与NumPy中的不同。\n",
    "# 主要区别是 pylab.hist 自动绘制histogram，而 numpy.histogram 仅生成数据。\n",
    "import numpy as np\n",
    "import matplotlib.pyplot as plt\n",
    "\n",
    "mu,sigma = 2,0.5\n",
    "v = np.random.normal(mu,sigma,10000)\n",
    "print(v)"
   ]
  },
  {
   "cell_type": "code",
   "execution_count": 17,
   "metadata": {},
   "outputs": [
    {
     "data": {
      "image/png": "[encoded data removed]",
      "text/plain": [
       "<matplotlib.figure.Figure at 0x2a9760e8c18>"
      ]
     },
     "metadata": {},
     "output_type": "display_data"
    }
   ],
   "source": [
    "# matplotlib.pyplot的版本\n",
    "plt.hist(v,bins=50,normed=1)\n",
    "plt.show()"
   ]
  },
  {
   "cell_type": "code",
   "execution_count": 22,
   "metadata": {},
   "outputs": [
    {
     "name": "stdout",
     "output_type": "stream",
     "text": [
      "[0.00137197 0.         0.         0.         0.00548789 0.00548789\n",
      " 0.01234775 0.01783564 0.01783564 0.04390311 0.049391   0.05076297\n",
      " 0.09055017 0.11936158 0.15640483 0.18521625 0.25107091 0.32378544\n",
      " 0.34299305 0.42256744 0.51448958 0.5776003  0.6173875  0.72851725\n",
      " 0.72714527 0.7998598  0.86571447 0.74498091 0.76418852 0.75184077\n",
      " 0.67226638 0.64482694 0.56525255 0.52409339 0.44177505 0.34710897\n",
      " 0.35259686 0.25793078 0.17835639 0.14268511 0.11524567 0.10564186\n",
      " 0.04664706 0.04253114 0.04253114 0.01920761 0.01097578 0.01097578\n",
      " 0.00548789 0.00548789]\n",
      "[0.03311421 0.10600198 0.17888976 0.25177753 0.3246653  0.39755308\n",
      " 0.47044085 0.54332862 0.6162164  0.68910417 0.76199194 0.83487972\n",
      " 0.90776749 0.98065527 1.05354304 1.12643081 1.19931859 1.27220636\n",
      " 1.34509413 1.41798191 1.49086968 1.56375745 1.63664523 1.709533\n",
      " 1.78242077 1.85530855 1.92819632 2.0010841  2.07397187 2.14685964\n",
      " 2.21974742 2.29263519 2.36552296 2.43841074 2.51129851 2.58418628\n",
      " 2.65707406 2.72996183 2.8028496  2.87573738 2.94862515 3.02151293\n",
      " 3.0944007  3.16728847 3.24017625 3.31306402 3.38595179 3.45883957\n",
      " 3.53172734 3.60461511 3.67750289]\n"
     ]
    },
    {
     "data": {
      "image/png": "[encoded data removed]",
      "text/plain": [
       "<matplotlib.figure.Figure at 0x2a9762fabe0>"
      ]
     },
     "metadata": {},
     "output_type": "display_data"
    }
   ],
   "source": [
    "(n,bins) = np.histogram(v,bins=50,normed=True)\n",
    "print(n)\n",
    "print(bins)\n",
    "plt.plot(.5*(bins[1:]+bins[:-1]),n)\n",
    "plt.show()"
   ]
  },
  {
   "cell_type": "code",
   "execution_count": null,
   "metadata": {},
   "outputs": [],
   "source": []
  }
 ],
 "metadata": {
  "kernelspec": {
   "display_name": "Python 3",
   "language": "python",
   "name": "python3"
  },
  "language_info": {
   "codemirror_mode": {
    "name": "ipython",
    "version": 3
   },
   "file_extension": ".py",
   "mimetype": "text/x-python",
   "name": "python",
   "nbconvert_exporter": "python",
   "pygments_lexer": "ipython3",
   "version": "3.6.4"
  }
 },
 "nbformat": 4,
 "nbformat_minor": 2
}
