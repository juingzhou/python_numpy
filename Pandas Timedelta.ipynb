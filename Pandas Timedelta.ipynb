{
 "cells": [
  {
   "cell_type": "code",
   "execution_count": 1,
   "metadata": {
    "scrolled": true
   },
   "outputs": [
    {
     "name": "stdout",
     "output_type": "stream",
     "text": [
      "2 days 02:15:30\n"
     ]
    }
   ],
   "source": [
    "'''\n",
    "时间差(Timedelta)时间上的差异，以不同的单位来表示。例如:日，小时，分钟，秒。\n",
    "它们可以是正值，也可以是负值，同时可以使用各种参数创建Timedelta对象\n",
    "'''\n",
    "# 字符串\n",
    "# 可以通过传递字符串，可以创建一个Timedelta对象\n",
    "import pandas as pd\n",
    "timediff = pd.Timedelta('2 days 2 hours 15 minutes 30 seconds')\n",
    "print(timediff)"
   ]
  },
  {
   "cell_type": "code",
   "execution_count": 6,
   "metadata": {},
   "outputs": [
    {
     "name": "stdout",
     "output_type": "stream",
     "text": [
      "0 days 06:00:00\n"
     ]
    }
   ],
   "source": [
    "# 整数\n",
    "# 通过传递一个整数值与指定单位，这样的一个参数也可以用来创建Timedelta对象\n",
    "import pandas as pd\n",
    "\n",
    "timediff = pd.Timedelta(6,unit='h')\n",
    "print(timediff)"
   ]
  },
  {
   "cell_type": "code",
   "execution_count": 8,
   "metadata": {},
   "outputs": [
    {
     "name": "stdout",
     "output_type": "stream",
     "text": [
      "2 days 20:20:00\n"
     ]
    }
   ],
   "source": [
    "# 数据偏移\n",
    "# 可以构建以周，天，小时，分钟，秒，毫秒，微秒，纳秒的数据偏移量\n",
    "import pandas as pd\n",
    "\n",
    "timediff = pd.Timedelta(days=2,hours = 20,minutes=20)\n",
    "print(timediff)"
   ]
  },
  {
   "cell_type": "code",
   "execution_count": 9,
   "metadata": {},
   "outputs": [
    {
     "name": "stdout",
     "output_type": "stream",
     "text": [
      "           A      B\n",
      "0 2012-01-01 0 days\n",
      "1 2012-01-02 1 days\n",
      "2 2012-01-03 2 days\n"
     ]
    }
   ],
   "source": [
    "# 运算操作\n",
    "# 可以在Series/DataFrames上执行运算操作，并通过在datetime64[ns]系列\n",
    "# 或在时间上减法操作来构造timedelta64[ns]系列\n",
    "import pandas as pd\n",
    "\n",
    "s = pd.Series(pd.date_range('2012-1-1', periods=3, freq='D'))\n",
    "td = pd.Series([ pd.Timedelta(days=i) for i in range(3) ])\n",
    "df = pd.DataFrame(dict(A = s, B = td))\n",
    "print(df)"
   ]
  },
  {
   "cell_type": "code",
   "execution_count": 10,
   "metadata": {},
   "outputs": [
    {
     "name": "stdout",
     "output_type": "stream",
     "text": [
      "           A      B          C\n",
      "0 2018-01-01 0 days 2018-01-01\n",
      "1 2018-01-02 1 days 2018-01-03\n",
      "2 2018-01-03 2 days 2018-01-05\n"
     ]
    }
   ],
   "source": [
    "# 相加操作\n",
    "import pandas as pd\n",
    "\n",
    "s = pd.Series(pd.date_range('2018-1-1', periods=3, freq='D'))\n",
    "td = pd.Series([ pd.Timedelta(days=i) for i in range(3) ])\n",
    "df = pd.DataFrame(dict(A = s, B = td))\n",
    "df['C']=df['A']+df['B']\n",
    "print(df)"
   ]
  },
  {
   "cell_type": "code",
   "execution_count": 11,
   "metadata": {},
   "outputs": [
    {
     "name": "stdout",
     "output_type": "stream",
     "text": [
      "           A      B          C          D\n",
      "0 2012-01-01 0 days 2012-01-01 2012-01-01\n",
      "1 2012-01-02 1 days 2012-01-03 2012-01-02\n",
      "2 2012-01-03 2 days 2012-01-05 2012-01-03\n"
     ]
    }
   ],
   "source": [
    "# 相减操作\n",
    "import pandas as pd\n",
    "\n",
    "s = pd.Series(pd.date_range('2012-1-1', periods=3, freq='D'))\n",
    "td = pd.Series([ pd.Timedelta(days=i) for i in range(3) ])\n",
    "df = pd.DataFrame(dict(A = s, B = td))\n",
    "df['C']=df['A']+df['B']\n",
    "df['D']=df['C']-df['B']\n",
    "print(df)"
   ]
  },
  {
   "cell_type": "code",
   "execution_count": null,
   "metadata": {},
   "outputs": [],
   "source": []
  }
 ],
 "metadata": {
  "kernelspec": {
   "display_name": "Python 3",
   "language": "python",
   "name": "python3"
  },
  "language_info": {
   "codemirror_mode": {
    "name": "ipython",
    "version": 3
   },
   "file_extension": ".py",
   "mimetype": "text/x-python",
   "name": "python",
   "nbconvert_exporter": "python",
   "pygments_lexer": "ipython3",
   "version": "3.6.4"
  }
 },
 "nbformat": 4,
 "nbformat_minor": 2
}
