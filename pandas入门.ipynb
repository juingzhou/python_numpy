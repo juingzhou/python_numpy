{
 "cells": [
  {
   "cell_type": "code",
   "execution_count": 2,
   "metadata": {},
   "outputs": [
    {
     "name": "stdout",
     "output_type": "stream",
     "text": [
      "Hello, Pandas\n"
     ]
    }
   ],
   "source": [
    "'''输出Hello World'''\n",
    "import pandas as pd\n",
    "import numpy as np\n",
    "import matplotlib.pyplot as plt\n",
    "print(\"Hello, Pandas\")"
   ]
  },
  {
   "cell_type": "code",
   "execution_count": 3,
   "metadata": {},
   "outputs": [
    {
     "name": "stdout",
     "output_type": "stream",
     "text": [
      "0    1.0\n",
      "1    3.0\n",
      "2    5.0\n",
      "3    NaN\n",
      "4    6.0\n",
      "5    8.0\n",
      "dtype: float64\n"
     ]
    }
   ],
   "source": [
    "#对象创建\n",
    "# 通过传递值列表来创建一个系列，让Pandas创建一个默认的整数索引\n",
    "import pandas as pd\n",
    "import numpy as np\n",
    "s = pd.Series([1,3,5,np.nan,6,8])\n",
    "print(s)"
   ]
  },
  {
   "cell_type": "code",
   "execution_count": 6,
   "metadata": {},
   "outputs": [
    {
     "name": "stdout",
     "output_type": "stream",
     "text": [
      "DatetimeIndex(['2018-06-14', '2018-06-15', '2018-06-16', '2018-06-17',\n",
      "               '2018-06-18', '2018-06-19', '2018-06-20'],\n",
      "              dtype='datetime64[ns]', freq='D')\n",
      "----------------------------------------\n",
      "                   A         B         C         D\n",
      "2018-06-14  0.745628 -0.077275  1.019681  0.121286\n",
      "2018-06-15  0.070575  0.476695 -0.578876 -1.438155\n",
      "2018-06-16 -1.681267  1.749009 -0.453135 -0.468718\n",
      "2018-06-17  0.847732  1.504192 -0.083250  0.504551\n",
      "2018-06-18 -1.010202  1.260831  0.506821  1.350066\n",
      "2018-06-19  0.286510  0.782257 -0.749961  0.419270\n",
      "2018-06-20 -0.987971  0.890693 -0.813163  0.062710\n"
     ]
    }
   ],
   "source": [
    "# 通过传递numpy数组，使用datetime索引和标记列来创建DataFrame\n",
    "import numpy as np\n",
    "import pandas as pd\n",
    "dates = pd.date_range('20180614',periods=7)\n",
    "print(dates)\n",
    "print(\"--\"*20)\n",
    "df = pd.DataFrame(np.random.randn(7,4),index=dates,columns=list(\"ABCD\"))\n",
    "print(df)"
   ]
  },
  {
   "cell_type": "code",
   "execution_count": 9,
   "metadata": {},
   "outputs": [
    {
     "name": "stdout",
     "output_type": "stream",
     "text": [
      "     A          B    C  D      E    F\n",
      "0  1.0 2017-01-02  1.0  3   test  foo\n",
      "1  1.0 2017-01-02  1.0  3  train  foo\n",
      "2  1.0 2017-01-02  1.0  3   test  foo\n",
      "3  1.0 2017-01-02  1.0  3  train  foo\n",
      "------------------------------------------------------------\n",
      "A           float64\n",
      "B    datetime64[ns]\n",
      "C           float32\n",
      "D             int32\n",
      "E          category\n",
      "F            object\n",
      "dtype: object\n"
     ]
    }
   ],
   "source": [
    "# 通过传递可以转换为类似系列的对象的字典来创建DataFrame\n",
    "import numpy as np\n",
    "import pandas as pd\n",
    "df = pd.DataFrame({\n",
    "    'A': 1.,\n",
    "    'B': pd.Timestamp('20170102'),\n",
    "    'C': pd.Series(1,index=list(range(4)),dtype='float32'),\n",
    "    'D' : np.array([3] * 4,dtype='int32'),\n",
    "    'E' : pd.Categorical([\"test\",\"train\",\"test\",\"train\"]),\n",
    "    'F' : 'foo'\n",
    "})\n",
    "print(df)\n",
    "print('---'*20)\n",
    "print(df.dtypes)"
   ]
  },
  {
   "cell_type": "code",
   "execution_count": 10,
   "metadata": {},
   "outputs": [
    {
     "name": "stdout",
     "output_type": "stream",
     "text": [
      "                   A         B         C         D\n",
      "2017-01-01  0.217860 -1.297847  1.153138  0.219613\n",
      "2017-01-02  0.136234  1.825135 -1.168752 -1.084226\n",
      "2017-01-03  2.310334 -0.122261  0.106487 -2.176004\n",
      "2017-01-04 -0.835450  1.189240 -0.414348 -1.797223\n",
      "2017-01-05  0.556234  1.944720 -0.822767  1.280016\n",
      "--------------------------------------------------------------------------------------------------------------------------------------------\n",
      "                   A         B         C         D\n",
      "2017-01-05  0.556234  1.944720 -0.822767  1.280016\n",
      "2017-01-06 -0.503083  0.186756  1.368340 -0.570684\n",
      "2017-01-07 -0.176508  1.666747 -0.242304  2.417399\n"
     ]
    }
   ],
   "source": [
    "# 查看数据\n",
    "# 查看框架的顶部和底部的数据行\n",
    "import pandas as pd\n",
    "import numpy as np\n",
    "dates = pd.date_range('20170101', periods=7)\n",
    "df = pd.DataFrame(np.random.randn(7,4), index=dates, columns=list('ABCD'))\n",
    "print(df.head())\n",
    "print(\"--------------\" * 10)\n",
    "print(df.tail(3))"
   ]
  },
  {
   "cell_type": "code",
   "execution_count": 11,
   "metadata": {},
   "outputs": [
    {
     "name": "stdout",
     "output_type": "stream",
     "text": [
      "index is :\n",
      "DatetimeIndex(['2017-01-01', '2017-01-02', '2017-01-03', '2017-01-04',\n",
      "               '2017-01-05', '2017-01-06', '2017-01-07'],\n",
      "              dtype='datetime64[ns]', freq='D')\n",
      "columns is :\n",
      "Index(['A', 'B', 'C', 'D'], dtype='object')\n",
      "values is :\n",
      "[[-0.69200629 -1.15225189  1.37859526 -1.51062428]\n",
      " [-1.651765    0.34910801 -0.15649412  0.32823022]\n",
      " [ 0.53424088 -1.20206774  0.34637885 -0.57090573]\n",
      " [ 0.92538056  0.34722098  0.30946151  0.98353038]\n",
      " [-1.23069885  1.455224   -0.42090375  0.01422661]\n",
      " [ 0.07338044  0.38152533  0.1820772   0.36544273]\n",
      " [-1.38203709 -0.52475255  0.23427794 -2.33029033]]\n"
     ]
    }
   ],
   "source": [
    "# 显示索引，列和底层numpy数据\n",
    "import pandas as pd\n",
    "import numpy as np\n",
    "\n",
    "dates = pd.date_range('20170101', periods=7)\n",
    "df = pd.DataFrame(np.random.randn(7,4), index=dates, columns=list('ABCD'))\n",
    "print(\"index is :\" )\n",
    "print(df.index)\n",
    "print(\"columns is :\" )\n",
    "print(df.columns)\n",
    "print(\"values is :\" )\n",
    "print(df.values)"
   ]
  },
  {
   "cell_type": "code",
   "execution_count": 12,
   "metadata": {},
   "outputs": [
    {
     "name": "stdout",
     "output_type": "stream",
     "text": [
      "              A         B         C         D\n",
      "count  7.000000  7.000000  7.000000  7.000000\n",
      "mean   0.695944 -0.051201 -0.171466 -0.478366\n",
      "std    1.128535  0.619041  1.093343  1.232477\n",
      "min   -1.202284 -0.695248 -2.265658 -2.235932\n",
      "25%    0.318811 -0.503395 -0.437830 -1.195096\n",
      "50%    0.765022 -0.149949 -0.072581 -0.615893\n",
      "75%    1.117601  0.299617  0.386889  0.205801\n",
      "max    2.436044  0.894348  1.239860  1.481856\n"
     ]
    }
   ],
   "source": [
    "# 描述显示数据的快速统计摘要\n",
    "import pandas as pd\n",
    "import numpy as np\n",
    "\n",
    "dates = pd.date_range('20170101', periods=7)\n",
    "df = pd.DataFrame(np.random.randn(7,4), index=dates, columns=list('ABCD'))\n",
    "print(df.describe())"
   ]
  },
  {
   "cell_type": "code",
   "execution_count": 13,
   "metadata": {},
   "outputs": [
    {
     "name": "stdout",
     "output_type": "stream",
     "text": [
      "   2017-01-01  2017-01-02  2017-01-03  2017-01-04  2017-01-05  2017-01-06\n",
      "A    0.788148    0.873350    0.460439    1.065333    0.705621   -0.658399\n",
      "B   -1.687456   -2.908424   -0.015910    0.968784    0.211343    0.202217\n",
      "C   -1.417524    1.385140    0.362841    0.968451   -0.568410   -2.948708\n",
      "D    0.912517   -1.280129   -0.178245    0.477634    0.899655    0.565513\n"
     ]
    }
   ],
   "source": [
    "# 调换数据及数组的转置\n",
    "import pandas as pd\n",
    "import numpy as np\n",
    "\n",
    "dates = pd.date_range('20170101', periods=6)\n",
    "df = pd.DataFrame(np.random.randn(6,4), index=dates, columns=list('ABCD'))\n",
    "print(df.T)"
   ]
  },
  {
   "cell_type": "code",
   "execution_count": 14,
   "metadata": {},
   "outputs": [
    {
     "name": "stdout",
     "output_type": "stream",
     "text": [
      "                   D         C         B         A\n",
      "2017-01-01  0.330775 -1.121714  0.318678 -0.549199\n",
      "2017-01-02 -1.153364  0.419225  0.401447 -0.552520\n",
      "2017-01-03 -0.445730  0.399561 -0.044572 -1.615163\n",
      "2017-01-04  0.063047 -1.154761 -0.476624  0.938343\n",
      "2017-01-05 -0.277457 -0.245716 -0.805897 -0.473336\n",
      "2017-01-06 -1.263728  1.773424 -1.421991 -2.679477\n"
     ]
    }
   ],
   "source": [
    "# 通过轴排序\n",
    "import pandas as pd\n",
    "import numpy as np\n",
    "\n",
    "dates = pd.date_range('20170101', periods=6)\n",
    "df = pd.DataFrame(np.random.randn(6,4), index=dates, columns=list('ABCD'))\n",
    "print(df.sort_index(axis=1, ascending=False))"
   ]
  },
  {
   "cell_type": "code",
   "execution_count": 15,
   "metadata": {},
   "outputs": [
    {
     "name": "stdout",
     "output_type": "stream",
     "text": [
      "                   A         B         C         D\n",
      "2017-01-03 -0.233780 -1.440747 -0.615195 -1.470323\n",
      "2017-01-05  0.502524 -0.731272  0.913448  0.185698\n",
      "2017-01-04  2.108876 -0.193944 -1.491198  0.083391\n",
      "2017-01-01  0.236044 -0.072867  0.017630  1.453913\n",
      "2017-01-02  0.629403  0.012406 -1.979554  1.166164\n",
      "2017-01-06 -0.627634  0.315410 -1.142507 -1.368314\n"
     ]
    }
   ],
   "source": [
    "# 按值排序\n",
    "import pandas as pd\n",
    "import numpy as np\n",
    "\n",
    "dates = pd.date_range('20170101', periods=6)\n",
    "df = pd.DataFrame(np.random.randn(6,4), index=dates, columns=list('ABCD'))\n",
    "print(df.sort_values(by='B'))"
   ]
  },
  {
   "cell_type": "code",
   "execution_count": 17,
   "metadata": {},
   "outputs": [
    {
     "name": "stdout",
     "output_type": "stream",
     "text": [
      "2017-01-01    1.365182\n",
      "2017-01-02    0.846809\n",
      "2017-01-03    0.090595\n",
      "2017-01-04   -0.054516\n",
      "2017-01-05    1.155944\n",
      "2017-01-06   -0.841337\n",
      "2017-01-07   -0.153236\n",
      "Freq: D, Name: A, dtype: float64\n",
      "----------------------------------------------------------------------------------------------------------------------------------\n",
      "                   A         B         C         D\n",
      "2017-01-01  1.365182 -0.866672  0.694184 -0.523985\n",
      "2017-01-02  0.846809 -0.294397 -1.039713 -0.204326\n",
      "2017-01-03  0.090595  0.251136 -0.464333  1.954606\n",
      "========= 指定选择日期 ========\n",
      "                   A         B         C         D\n",
      "2017-01-02  0.846809 -0.294397 -1.039713 -0.204326\n",
      "2017-01-03  0.090595  0.251136 -0.464333  1.954606\n"
     ]
    }
   ],
   "source": [
    "#  选择区块\n",
    "#  注意虽然用于选择和设置的标准Python/Numpy表达式是直观的，\n",
    "#  可用于交互式工作，但对于生产代码，但建议使用优化的Pandas\n",
    "#  数据访问方法.at，.iat，.loc，.iloc和.ix。\n",
    "#  获取\n",
    "#  选择一列，产生一个系列，相当于df.A\n",
    "import pandas as pd\n",
    "import numpy as np\n",
    "\n",
    "dates = pd.date_range('20170101', periods=7)\n",
    "df = pd.DataFrame(np.random.randn(7,4), index=dates, columns=list('ABCD'))\n",
    "\n",
    "print(df['A'])\n",
    "print(\"-------------\"*10)\n",
    "#  选择通过[]操作符，选择切片行.\n",
    "print(df[0:3])\n",
    "\n",
    "print(\"========= 指定选择日期 ========\")\n",
    "\n",
    "print(df['20170102':'20170103'])"
   ]
  },
  {
   "cell_type": "code",
   "execution_count": 18,
   "metadata": {},
   "outputs": [
    {
     "name": "stdout",
     "output_type": "stream",
     "text": [
      "A   -0.270257\n",
      "B    0.418427\n",
      "C   -0.433454\n",
      "D    0.171068\n",
      "Name: 2017-01-01 00:00:00, dtype: float64\n"
     ]
    }
   ],
   "source": [
    "# 按标签选择\n",
    "# 使用标签获取横截面\n",
    "import pandas as pd\n",
    "import numpy as np\n",
    "\n",
    "dates = pd.date_range('20170101', periods=6)\n",
    "df = pd.DataFrame(np.random.randn(6,4), index=dates, columns=list('ABCD'))\n",
    "\n",
    "print(df.loc[dates[0]])"
   ]
  },
  {
   "cell_type": "code",
   "execution_count": 19,
   "metadata": {},
   "outputs": [
    {
     "name": "stdout",
     "output_type": "stream",
     "text": [
      "                   A         B\n",
      "2017-01-01  0.378509  1.125766\n",
      "2017-01-02 -1.151995  1.036891\n",
      "2017-01-03  0.570254 -0.189260\n",
      "2017-01-04  0.627972  1.222184\n",
      "2017-01-05  0.432107  1.411543\n",
      "2017-01-06 -0.396270 -0.522036\n"
     ]
    }
   ],
   "source": [
    "#  通过标签选择多轴\n",
    "import pandas as pd\n",
    "import numpy as np\n",
    "\n",
    "dates = pd.date_range('20170101', periods=6)\n",
    "df = pd.DataFrame(np.random.randn(6,4), index=dates, columns=list('ABCD'))\n",
    "\n",
    "print(df.loc[:,['A','B']])"
   ]
  },
  {
   "cell_type": "code",
   "execution_count": 20,
   "metadata": {},
   "outputs": [
    {
     "name": "stdout",
     "output_type": "stream",
     "text": [
      "                   A         B\n",
      "2017-01-02  0.690210 -0.820181\n",
      "2017-01-03  0.806064 -0.872132\n",
      "2017-01-04 -1.510825 -0.365805\n"
     ]
    }
   ],
   "source": [
    "#  显示标签切片，包括两个端点\n",
    "import pandas as pd\n",
    "import numpy as np\n",
    "\n",
    "dates = pd.date_range('20170101', periods=6)\n",
    "df = pd.DataFrame(np.random.randn(6,4), index=dates, columns=list('ABCD'))\n",
    "\n",
    "print(df.loc['20170102':'20170104',['A','B']])"
   ]
  },
  {
   "cell_type": "code",
   "execution_count": 21,
   "metadata": {},
   "outputs": [
    {
     "name": "stdout",
     "output_type": "stream",
     "text": [
      "A   -0.242236\n",
      "B    0.769269\n",
      "Name: 2017-01-02 00:00:00, dtype: float64\n"
     ]
    }
   ],
   "source": [
    "# 减少返回对象的尺寸(大小)\n",
    "import pandas as pd\n",
    "import numpy as np\n",
    "\n",
    "dates = pd.date_range('20170101', periods=6)\n",
    "df = pd.DataFrame(np.random.randn(6,4), index=dates, columns=list('ABCD'))\n",
    "\n",
    "print(df.loc['20170102',['A','B']])"
   ]
  },
  {
   "cell_type": "code",
   "execution_count": 22,
   "metadata": {},
   "outputs": [
    {
     "name": "stdout",
     "output_type": "stream",
     "text": [
      "-0.13500317024958616\n"
     ]
    }
   ],
   "source": [
    "# 获得标量值\n",
    "import pandas as pd\n",
    "import numpy as np\n",
    "\n",
    "dates = pd.date_range('20170101', periods=6)\n",
    "df = pd.DataFrame(np.random.randn(6,4), index=dates, columns=list('ABCD'))\n",
    "\n",
    "print(df.loc[dates[0],'A'])"
   ]
  },
  {
   "cell_type": "code",
   "execution_count": 23,
   "metadata": {},
   "outputs": [
    {
     "name": "stdout",
     "output_type": "stream",
     "text": [
      "-1.3833496581196587\n"
     ]
    }
   ],
   "source": [
    "# 快速访问标量(等同于先前的方法)\n",
    "import pandas as pd\n",
    "import numpy as np\n",
    "\n",
    "dates = pd.date_range('20170101', periods=6)\n",
    "df = pd.DataFrame(np.random.randn(6,4), index=dates, columns=list('ABCD'))\n",
    "\n",
    "print(df.at[dates[0],'A'])"
   ]
  },
  {
   "cell_type": "code",
   "execution_count": 24,
   "metadata": {},
   "outputs": [
    {
     "name": "stdout",
     "output_type": "stream",
     "text": [
      "A    0.147941\n",
      "B   -1.196857\n",
      "C    1.110731\n",
      "D    1.250626\n",
      "Name: 2017-01-04 00:00:00, dtype: float64\n"
     ]
    }
   ],
   "source": [
    "# 通过位置选择\n",
    "# 通过传递的整数的位置选择\n",
    "import pandas as pd\n",
    "import numpy as np\n",
    "\n",
    "dates = pd.date_range('20170101', periods=6)\n",
    "df = pd.DataFrame(np.random.randn(6,4), index=dates, columns=list('ABCD'))\n",
    "\n",
    "print(df.iloc[3])"
   ]
  },
  {
   "cell_type": "code",
   "execution_count": 25,
   "metadata": {},
   "outputs": [
    {
     "name": "stdout",
     "output_type": "stream",
     "text": [
      "                   A         B\n",
      "2017-01-04 -1.331305  2.660253\n",
      "2017-01-05  0.558024  1.719727\n"
     ]
    }
   ],
   "source": [
    "# 通过整数切片，类似于numpy/python\n",
    "import pandas as pd\n",
    "import numpy as np\n",
    "\n",
    "dates = pd.date_range('20170101', periods=6)\n",
    "df = pd.DataFrame(np.random.randn(6,4), index=dates, columns=list('ABCD'))\n",
    "\n",
    "print(df.iloc[3:5,0:2])"
   ]
  },
  {
   "cell_type": "code",
   "execution_count": 26,
   "metadata": {},
   "outputs": [
    {
     "name": "stdout",
     "output_type": "stream",
     "text": [
      "                   A         C\n",
      "2017-01-02 -0.335005 -1.585566\n",
      "2017-01-03  0.050594  0.050930\n",
      "2017-01-05  1.143703  0.480890\n"
     ]
    }
   ],
   "source": [
    "# 通过整数位置的列表，类似于numpy/python样式\n",
    "import pandas as pd\n",
    "import numpy as np\n",
    "\n",
    "dates = pd.date_range('20170101', periods=6)\n",
    "df = pd.DataFrame(np.random.randn(6,4), index=dates, columns=list('ABCD'))\n",
    "\n",
    "print(df.iloc[[1,2,4],[0,2]])"
   ]
  },
  {
   "cell_type": "code",
   "execution_count": 27,
   "metadata": {},
   "outputs": [],
   "source": [
    "# 明确切片行"
   ]
  },
  {
   "cell_type": "code",
   "execution_count": 28,
   "metadata": {},
   "outputs": [
    {
     "name": "stdout",
     "output_type": "stream",
     "text": [
      "                   A         B         C         D\n",
      "2017-01-02  1.144502 -0.337938  0.819344 -0.210289\n",
      "2017-01-03  0.015778 -0.381650  1.008577 -0.289627\n"
     ]
    }
   ],
   "source": [
    "# 明确切片行\n",
    "import pandas as pd\n",
    "import numpy as np\n",
    "\n",
    "dates = pd.date_range('20170101', periods=6)\n",
    "df = pd.DataFrame(np.random.randn(6,4), index=dates, columns=list('ABCD'))\n",
    "\n",
    "print(df.iloc[1:3,:])"
   ]
  },
  {
   "cell_type": "code",
   "execution_count": 29,
   "metadata": {},
   "outputs": [
    {
     "name": "stdout",
     "output_type": "stream",
     "text": [
      "                   B         C\n",
      "2017-01-01 -1.688748  2.297852\n",
      "2017-01-02 -1.167515  0.019527\n",
      "2017-01-03  0.214521 -0.051793\n",
      "2017-01-04 -1.091072  1.812288\n",
      "2017-01-05 -1.887389 -0.417972\n",
      "2017-01-06  0.426093  3.012967\n"
     ]
    }
   ],
   "source": [
    "# 明确切片列\n",
    "import pandas as pd\n",
    "import numpy as np\n",
    "\n",
    "dates = pd.date_range('20170101', periods=6)\n",
    "df = pd.DataFrame(np.random.randn(6,4), index=dates, columns=list('ABCD'))\n",
    "\n",
    "print(df.iloc[:,1:3])"
   ]
  },
  {
   "cell_type": "code",
   "execution_count": 32,
   "metadata": {},
   "outputs": [
    {
     "name": "stdout",
     "output_type": "stream",
     "text": [
      "0.2436720755953018\n"
     ]
    }
   ],
   "source": [
    "# 要明确获取值\n",
    "import pandas as pd\n",
    "import numpy as np\n",
    "\n",
    "dates = pd.date_range('20170101', periods=6)\n",
    "df = pd.DataFrame(np.random.randn(6,4), index=dates, columns=list('ABCD'))\n",
    "\n",
    "print(df.iloc[1,1])"
   ]
  },
  {
   "cell_type": "code",
   "execution_count": 31,
   "metadata": {},
   "outputs": [
    {
     "name": "stdout",
     "output_type": "stream",
     "text": [
      "0.24088466624305752\n"
     ]
    }
   ],
   "source": [
    "# 要快速访问标量(等同于先前的方法)\n",
    "import pandas as pd\n",
    "import numpy as np\n",
    "\n",
    "dates = pd.date_range('20170101', periods=6)\n",
    "df = pd.DataFrame(np.random.randn(6,4), index=dates, columns=list('ABCD'))\n",
    "\n",
    "print(df.iat[1,1])"
   ]
  },
  {
   "cell_type": "code",
   "execution_count": 33,
   "metadata": {},
   "outputs": [
    {
     "name": "stdout",
     "output_type": "stream",
     "text": [
      "                   A         B         C         D\n",
      "2017-01-01  0.537374  0.618934 -0.342191  0.974380\n",
      "2017-01-02  1.206256 -0.883203 -1.128572  0.149958\n",
      "2017-01-03  0.611288 -0.113920 -1.794452 -0.476230\n",
      "2017-01-06  0.845632 -0.217579 -0.739267 -1.991938\n"
     ]
    }
   ],
   "source": [
    "# 布尔索引\n",
    "# 使用单列的值来选择数据\n",
    "import pandas as pd\n",
    "import numpy as np\n",
    "\n",
    "dates = pd.date_range('20170101', periods=6)\n",
    "df = pd.DataFrame(np.random.randn(6,4), index=dates, columns=list('ABCD'))\n",
    "\n",
    "print(df[df.A > 0])"
   ]
  },
  {
   "cell_type": "code",
   "execution_count": 36,
   "metadata": {},
   "outputs": [
    {
     "name": "stdout",
     "output_type": "stream",
     "text": [
      "                   A   B   C   D\n",
      "2017-01-01       NaN NaN NaN NaN\n",
      "2017-01-02  1.029395 NaN NaN NaN\n",
      "2017-01-03       NaN NaN NaN NaN\n",
      "2017-01-04  1.266942 NaN NaN NaN\n",
      "2017-01-05  0.216033 NaN NaN NaN\n",
      "2017-01-06       NaN NaN NaN NaN\n"
     ]
    }
   ],
   "source": [
    "# 从满足布尔条件的DataFrame中选择值\n",
    "import pandas as pd\n",
    "import numpy as np\n",
    "\n",
    "dates = pd.date_range('20170101', periods=6)\n",
    "df = pd.DataFrame(np.random.randn(6,4), index=dates, columns=list('ABCD'))\n",
    "\n",
    "print(df[df > 0])"
   ]
  },
  {
   "cell_type": "code",
   "execution_count": 37,
   "metadata": {},
   "outputs": [
    {
     "name": "stdout",
     "output_type": "stream",
     "text": [
      "                   A         B         C         D      E\n",
      "2017-01-01  0.173561 -0.186763  0.042982 -1.070308    one\n",
      "2017-01-02 -0.305510 -0.280407 -1.146972  1.648637    one\n",
      "2017-01-03 -0.178233 -0.953657  0.500459 -1.581852    two\n",
      "2017-01-04  0.129429 -1.332771 -1.130608  2.273053  three\n",
      "2017-01-05 -1.260241  1.440667  0.793585 -0.655253   four\n",
      "2017-01-06  1.375862 -0.736900 -0.749187 -0.029387  three\n",
      "============= start to filter =============== \n",
      "                   A         B         C         D     E\n",
      "2017-01-03 -0.178233 -0.953657  0.500459 -1.581852   two\n",
      "2017-01-05 -1.260241  1.440667  0.793585 -0.655253  four\n"
     ]
    }
   ],
   "source": [
    "# 使用isin()方法进行过滤\n",
    "import pandas as pd\n",
    "import numpy as np\n",
    "\n",
    "dates = pd.date_range('20170101', periods=6)\n",
    "df = pd.DataFrame(np.random.randn(6,4), index=dates, columns=list('ABCD'))\n",
    "\n",
    "df2 = df.copy()\n",
    "df2['E'] = ['one', 'one','two','three','four','three']\n",
    "\n",
    "print(df2)\n",
    "\n",
    "print(\"============= start to filter =============== \")\n",
    "\n",
    "print(df2[df2['E'].isin(['two','four'])])"
   ]
  },
  {
   "cell_type": "code",
   "execution_count": null,
   "metadata": {},
   "outputs": [],
   "source": []
  }
 ],
 "metadata": {
  "kernelspec": {
   "display_name": "Python 3",
   "language": "python",
   "name": "python3"
  },
  "language_info": {
   "codemirror_mode": {
    "name": "ipython",
    "version": 3
   },
   "file_extension": ".py",
   "mimetype": "text/x-python",
   "name": "python",
   "nbconvert_exporter": "python",
   "pygments_lexer": "ipython3",
   "version": "3.6.4"
  }
 },
 "nbformat": 4,
 "nbformat_minor": 2
}
