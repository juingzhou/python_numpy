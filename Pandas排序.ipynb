{
 "cells": [
  {
   "cell_type": "code",
   "execution_count": 2,
   "metadata": {},
   "outputs": [
    {
     "name": "stdout",
     "output_type": "stream",
     "text": [
      "       col2      col1\n",
      "1 -0.396544  0.039067\n",
      "4  1.816069 -0.278413\n",
      "6  0.666425  1.012581\n",
      "2  1.793107  0.343796\n",
      "3 -1.115921 -0.336775\n",
      "5 -0.162782 -0.572007\n",
      "9 -0.011000  0.245150\n",
      "8 -0.236265  0.847569\n",
      "0 -0.018238 -0.252262\n",
      "7 -0.141063 -2.045545\n"
     ]
    }
   ],
   "source": [
    "# Pandas排序有两种方式，一是按标签，二是按实际值\n",
    "import pandas as pd\n",
    "import numpy as np\n",
    "\n",
    "unsorted_df=pd.DataFrame(np.random.randn(10,2),index=[1,4,6,2,3,5,9,8,0,7],columns=['col2','col1'])\n",
    "print (unsorted_df) # unsorted_df中的标签和值都未排序"
   ]
  },
  {
   "cell_type": "code",
   "execution_count": 5,
   "metadata": {},
   "outputs": [
    {
     "name": "stdout",
     "output_type": "stream",
     "text": [
      "       col2      col1\n",
      "0  0.054385 -0.260958\n",
      "1  1.168025 -0.067826\n",
      "2 -0.712009  0.463139\n",
      "3  0.800493 -0.197036\n",
      "4 -0.096724  1.571286\n",
      "5 -0.236470  0.038509\n",
      "6 -0.326059 -0.522104\n",
      "7  1.545455  0.212513\n",
      "8  2.197709 -0.783244\n",
      "9 -0.244361  1.036185\n",
      "--------------------------------------------------------------------------------\n",
      "       col1      col2\n",
      "1 -0.067826  1.168025\n",
      "4  1.571286 -0.096724\n",
      "6 -0.522104 -0.326059\n",
      "2  0.463139 -0.712009\n",
      "3 -0.197036  0.800493\n",
      "5  0.038509 -0.236470\n",
      "9  1.036185 -0.244361\n",
      "8 -0.783244  2.197709\n",
      "0 -0.260958  0.054385\n",
      "7  0.212513  1.545455\n"
     ]
    }
   ],
   "source": [
    "# 按标签排序\n",
    "# 使用sort_index()方法，通过传递axis参数和排序顺序，可以对DataFrame进行排\n",
    "# 序。 默认情况下，按照升序对行标签进行排序。\n",
    "import pandas as pd\n",
    "import numpy as np\n",
    "\n",
    "unsorted_df = pd.DataFrame(np.random.randn(10,2),index=[1,4,6,2,3,5,9,8,0,7],columns = ['col2','col1'])\n",
    "\n",
    "sorted_df=unsorted_df.sort_index(axis=0)# 对行标签\n",
    "print (sorted_df)\n",
    "\n",
    "print('--------'*10)\n",
    "sorted_df=unsorted_df.sort_index(axis=1)# 对列标签\n",
    "print (sorted_df)\n"
   ]
  },
  {
   "cell_type": "code",
   "execution_count": 6,
   "metadata": {},
   "outputs": [
    {
     "name": "stdout",
     "output_type": "stream",
     "text": [
      "       col2      col1\n",
      "9 -0.437988  1.393805\n",
      "8  0.606534 -0.809060\n",
      "7 -0.096841  0.029676\n",
      "6  0.390706  0.663686\n",
      "5 -0.954713  0.103146\n",
      "4 -0.422815  1.982550\n",
      "3 -0.449429 -0.941123\n",
      "2 -0.255733  0.111832\n",
      "1  0.131507  0.489787\n",
      "0 -0.457814 -0.992237\n"
     ]
    }
   ],
   "source": [
    "# 排序顺序\n",
    "# 通过将布尔值传递给升序参数，可以控制排序顺序，其中默认是升序\n",
    "import pandas as pd\n",
    "import numpy as np\n",
    "\n",
    "unsorted_df = pd.DataFrame(np.random.randn(10,2),index=[1,4,6,2,3,5,9,8,0,7],columns = ['col2','col1'])\n",
    "\n",
    "sorted_df = unsorted_df.sort_index(ascending=False)#降序排序\n",
    "print (sorted_df)"
   ]
  },
  {
   "cell_type": "code",
   "execution_count": 7,
   "metadata": {},
   "outputs": [
    {
     "name": "stdout",
     "output_type": "stream",
     "text": [
      "       col1      col2\n",
      "1  1.229026 -0.496554\n",
      "4  0.516371  0.238227\n",
      "6 -0.161998 -0.297547\n",
      "2  1.405674  0.322108\n",
      "3 -0.686070 -0.334414\n",
      "5 -1.139248 -0.416568\n",
      "9  0.495866  0.962769\n",
      "8 -0.908377  0.105178\n",
      "0 -0.769257  1.255686\n",
      "7 -0.813066 -0.303988\n"
     ]
    }
   ],
   "source": [
    "# 按列排序\n",
    "# 通过传递axis参数值为0 或者1，可以对列标签进行排序(默认为升序)。默认情况下，axis=0，逐行排序\n",
    "import pandas as pd\n",
    "import numpy as np\n",
    "\n",
    "unsorted_df = pd.DataFrame(np.random.randn(10,2),index=[1,4,6,2,3,5,9,8,0,7],columns = ['col2','col1'])\n",
    "\n",
    "sorted_df=unsorted_df.sort_index(axis=1)\n",
    "\n",
    "print (sorted_df)"
   ]
  },
  {
   "cell_type": "code",
   "execution_count": 11,
   "metadata": {},
   "outputs": [
    {
     "name": "stdout",
     "output_type": "stream",
     "text": [
      "   col1  col2\n",
      "1     1     3\n",
      "2     1     2\n",
      "3     1     4\n",
      "0     2     1\n",
      "--------------------------------------------------------------------------------\n",
      "   col1  col2\n",
      "2     1     2\n",
      "1     1     3\n",
      "3     1     4\n",
      "0     2     1\n"
     ]
    }
   ],
   "source": [
    "# 按值排序\n",
    "# 像索引排序一样，sort_values()是按值排序的方法，他接收一个by参数，它将使用要与其排序值的DataFrame的列名称\n",
    "import pandas as pd\n",
    "import numpy as np\n",
    "\n",
    "unsorted_df = pd.DataFrame({'col1':[2,1,1,1],'col2':[1,3,2,4]})\n",
    "sorted_df = unsorted_df.sort_values(by='col1')# by参数需要指定一个或n个列值\n",
    "\n",
    "print (sorted_df)# 输出结果是col1是被排序，相应的col2值和行索引将随col1一起改变\n",
    "\n",
    "print('----'*20)\n",
    "\n",
    "unsorted_df = pd.DataFrame({'col1':[2,1,1,1],'col2':[1,3,2,4]})\n",
    "sorted_df = unsorted_df.sort_values(by=['col1','col2'])\n",
    "\n",
    "print (sorted_df)"
   ]
  },
  {
   "cell_type": "code",
   "execution_count": 12,
   "metadata": {},
   "outputs": [
    {
     "name": "stdout",
     "output_type": "stream",
     "text": [
      "   col1  col2\n",
      "1     1     3\n",
      "2     1     2\n",
      "3     1     4\n",
      "0     2     1\n"
     ]
    }
   ],
   "source": [
    "# 排序算法\n",
    "# sort_values()提供了从mergeesort，heapsort和quicksort中选择算法的一个配置，其中mergesort()是唯一稳定的算法\n",
    "\n",
    "import pandas as pd\n",
    "import numpy as np\n",
    "\n",
    "unsorted_df = pd.DataFrame({'col1':[2,1,1,1],'col2':[1,3,2,4]})\n",
    "sorted_df = unsorted_df.sort_values(by='col1' ,kind='mergesort')\n",
    "\n",
    "print (sorted_df)\n"
   ]
  },
  {
   "cell_type": "code",
   "execution_count": null,
   "metadata": {},
   "outputs": [],
   "source": []
  }
 ],
 "metadata": {
  "kernelspec": {
   "display_name": "Python 3",
   "language": "python",
   "name": "python3"
  },
  "language_info": {
   "codemirror_mode": {
    "name": "ipython",
    "version": 3
   },
   "file_extension": ".py",
   "mimetype": "text/x-python",
   "name": "python",
   "nbconvert_exporter": "python",
   "pygments_lexer": "ipython3",
   "version": "3.6.4"
  }
 },
 "nbformat": 4,
 "nbformat_minor": 2
}
