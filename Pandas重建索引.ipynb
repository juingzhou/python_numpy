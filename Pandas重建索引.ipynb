{
 "cells": [
  {
   "cell_type": "code",
   "execution_count": null,
   "metadata": {},
   "outputs": [],
   "source": [
    "'''\n",
    "重新索引会更改DataFrame的行标签和列标签。重新索引意味着符合数据以\n",
    "匹配特定轴上的一组给定的标签。\n",
    "可以通过索引来实现多个操作：\n",
    "    1.重新排序现有数据以匹配一组新的标签。\n",
    "    2.在没有标签数据的标签位置插入缺失值(NA)标记。\n",
    "'''"
   ]
  },
  {
   "cell_type": "code",
   "execution_count": 1,
   "metadata": {},
   "outputs": [
    {
     "name": "stdout",
     "output_type": "stream",
     "text": [
      "           A     C   B\n",
      "0 2016-01-01  High NaN\n",
      "2 2016-01-03   Low NaN\n",
      "5 2016-01-06  High NaN\n"
     ]
    }
   ],
   "source": [
    "import pandas as pd\n",
    "import numpy as np\n",
    "\n",
    "N=20\n",
    "\n",
    "df = pd.DataFrame({\n",
    "   'A': pd.date_range(start='2016-01-01',periods=N,freq='D'),\n",
    "   'x': np.linspace(0,stop=N-1,num=N),\n",
    "   'y': np.random.rand(N),\n",
    "   'C': np.random.choice(['Low','Medium','High'],N).tolist(),\n",
    "   'D': np.random.normal(100, 10, size=(N)).tolist()\n",
    "})\n",
    "\n",
    "#reindex the DataFrame\n",
    "df_reindexed = df.reindex(index=[0,2,5], columns=['A', 'C', 'B'])# 重新建索引\n",
    "\n",
    "print (df_reindexed)"
   ]
  },
  {
   "cell_type": "code",
   "execution_count": 2,
   "metadata": {},
   "outputs": [
    {
     "name": "stdout",
     "output_type": "stream",
     "text": [
      "       col1      col2      col3\n",
      "0  0.425476  1.294567 -0.169135\n",
      "1 -0.522632  0.115602  3.040209\n",
      "2  0.822872 -0.613074 -1.584864\n",
      "3  0.714313 -0.535625 -0.308132\n",
      "4  0.026062 -0.143784 -1.131340\n",
      "5 -0.197755 -0.753433 -0.331457\n",
      "6 -0.427604  0.041665 -0.066283\n"
     ]
    }
   ],
   "source": [
    "# 重建索引与其他对象对齐\n",
    "# 有时候可能希望采取一个对象和重新索引，其轴被标记为与另一个对象相同\n",
    "import pandas as pd\n",
    "import numpy as np\n",
    "\n",
    "df1 = pd.DataFrame(np.random.randn(10,3),columns=['col1','col2','col3'])\n",
    "df2 = pd.DataFrame(np.random.randn(7,3),columns=['col1','col2','col3'])\n",
    "\n",
    "df1 = df1.reindex_like(df2) # 使df1的索引与df2的索引相同\n",
    "print (df1\n",
    "# 注意：df1数据帧(DataFrame)被更改并重新编号，如df2。 \n",
    "#       列名称应该匹配，否则将为整个列标签添加NAN "
   ]
  },
  {
   "cell_type": "code",
   "execution_count": 3,
   "metadata": {},
   "outputs": [
    {
     "name": "stdout",
     "output_type": "stream",
     "text": [
      "       col1      col2      col3\n",
      "0  1.087886 -0.027579 -1.349307\n",
      "1 -0.999940 -0.499476  0.968063\n",
      "2       NaN       NaN       NaN\n",
      "3       NaN       NaN       NaN\n",
      "4       NaN       NaN       NaN\n",
      "5       NaN       NaN       NaN\n",
      "Data Frame with Forward Fill:\n",
      "       col1      col2      col3\n",
      "0  1.087886 -0.027579 -1.349307\n",
      "1 -0.999940 -0.499476  0.968063\n",
      "2 -0.999940 -0.499476  0.968063\n",
      "3 -0.999940 -0.499476  0.968063\n",
      "4 -0.999940 -0.499476  0.968063\n",
      "5 -0.999940 -0.499476  0.968063\n"
     ]
    }
   ],
   "source": [
    "# 填充时重新加注\n",
    "'''reindex()采用可选参数方法，它是一个填充方法，其值如下：\n",
    "    1.pad/ffill - 向前填充值\n",
    "    2.bfill/backfill - 向后填充值\n",
    "    3.nearest - 从最近的索引值填充\n",
    "'''\n",
    "import pandas as pd\n",
    "import numpy as np\n",
    "\n",
    "df1 = pd.DataFrame(np.random.randn(6,3),columns=['col1','col2','col3'])\n",
    "df2 = pd.DataFrame(np.random.randn(2,3),columns=['col1','col2','col3'])\n",
    "\n",
    "# Padding NAN's\n",
    "print (df2.reindex_like(df1))\n",
    "\n",
    "# Now Fill the NAN's with preceding Values\n",
    "print (\"Data Frame with Forward Fill:\")\n",
    "print (df2.reindex_like(df1,method='ffill'))"
   ]
  },
  {
   "cell_type": "code",
   "execution_count": 4,
   "metadata": {},
   "outputs": [
    {
     "name": "stdout",
     "output_type": "stream",
     "text": [
      "       col1      col2      col3\n",
      "0  0.602825 -1.608191 -0.721075\n",
      "1 -0.613105  1.516818  0.545220\n",
      "2       NaN       NaN       NaN\n",
      "3       NaN       NaN       NaN\n",
      "4       NaN       NaN       NaN\n",
      "5       NaN       NaN       NaN\n",
      "Data Frame with Forward Fill limiting to 1:\n",
      "       col1      col2      col3\n",
      "0  0.602825 -1.608191 -0.721075\n",
      "1 -0.613105  1.516818  0.545220\n",
      "2 -0.613105  1.516818  0.545220\n",
      "3       NaN       NaN       NaN\n",
      "4       NaN       NaN       NaN\n",
      "5       NaN       NaN       NaN\n"
     ]
    }
   ],
   "source": [
    "# 重新索引时的填充限制\n",
    "# 限制参数再重建索引时提供对填充的额外控制。限制指定连续匹配的最大计数\n",
    "import pandas as pd\n",
    "import numpy as np\n",
    "\n",
    "df1 = pd.DataFrame(np.random.randn(6,3),columns=['col1','col2','col3'])\n",
    "df2 = pd.DataFrame(np.random.randn(2,3),columns=['col1','col2','col3'])\n",
    "\n",
    "# Padding NAN's\n",
    "print (df2.reindex_like(df1))\n",
    "\n",
    "# Now Fill the NAN's with preceding Values\n",
    "print (\"Data Frame with Forward Fill limiting to 1:\")\n",
    "print (df2.reindex_like(df1,method='ffill',limit=1)) # 只有第二行被填充，3到5都按照原样保留"
   ]
  },
  {
   "cell_type": "code",
   "execution_count": 9,
   "metadata": {},
   "outputs": [
    {
     "name": "stdout",
     "output_type": "stream",
     "text": [
      "       col1      col2      col3\n",
      "0 -0.356860 -0.718989  1.228555\n",
      "1 -1.592120  0.616457 -0.398446\n",
      "2  1.881273 -0.582739  0.142849\n",
      "3 -0.418221  0.251071 -0.752505\n",
      "4 -0.729955  0.362207  0.694744\n",
      "5  0.152785  1.921661  0.463304\n",
      "After renaming the rows and columns:\n",
      "              c1        c2      col3\n",
      "apple  -0.356860 -0.718989  1.228555\n",
      "banana -1.592120  0.616457 -0.398446\n",
      "durian  1.881273 -0.582739  0.142849\n",
      "3      -0.418221  0.251071 -0.752505\n",
      "4      -0.729955  0.362207  0.694744\n",
      "5       0.152785  1.921661  0.463304\n"
     ]
    }
   ],
   "source": [
    "# 重命名\n",
    "# rename() 方法允许基于一些映射(字典或者系列)或任意函数来重新标记一个轴\n",
    "# 其中rename()提供一个inplace命名参数，默认为False并复制底层数据，指定传递inplace=True则表示将数据重命名\n",
    "import pandas as pd\n",
    "import numpy as np\n",
    "\n",
    "df1 = pd.DataFrame(np.random.randn(6,3),columns=['col1','col2','col3'])\n",
    "print (df1)\n",
    "\n",
    "print (\"After renaming the rows and columns:\")\n",
    "print (df1.rename(columns={'col1' : 'c1', 'col2' : 'c2'},index = {0 : 'apple', 1 : 'banana', 2 : 'durian'}))\n"
   ]
  },
  {
   "cell_type": "code",
   "execution_count": null,
   "metadata": {},
   "outputs": [],
   "source": []
  }
 ],
 "metadata": {
  "kernelspec": {
   "display_name": "Python 3",
   "language": "python",
   "name": "python3"
  },
  "language_info": {
   "codemirror_mode": {
    "name": "ipython",
    "version": 3
   },
   "file_extension": ".py",
   "mimetype": "text/x-python",
   "name": "python",
   "nbconvert_exporter": "python",
   "pygments_lexer": "ipython3",
   "version": "3.6.4"
  }
 },
 "nbformat": 4,
 "nbformat_minor": 2
}
