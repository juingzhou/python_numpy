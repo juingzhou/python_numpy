{
 "cells": [
  {
   "cell_type": "code",
   "execution_count": 1,
   "metadata": {},
   "outputs": [
    {
     "name": "stdout",
     "output_type": "stream",
     "text": [
      "DatetimeIndex(['2020-11-21', '2020-11-22', '2020-11-23', '2020-11-24',\n",
      "               '2020-11-25'],\n",
      "              dtype='datetime64[ns]', freq='D')\n"
     ]
    }
   ],
   "source": [
    "# 创建一个日期范围\n",
    "# 通过指定周期和频率，使用date.range()函数就可以创建日期序列。默认情况下，范围的频率为天\n",
    "import pandas as pd\n",
    "datelist = pd.date_range('2020/11/21', periods=5)\n",
    "print(datelist)"
   ]
  },
  {
   "cell_type": "code",
   "execution_count": 2,
   "metadata": {},
   "outputs": [
    {
     "name": "stdout",
     "output_type": "stream",
     "text": [
      "DatetimeIndex(['2020-11-30', '2020-12-31', '2021-01-31', '2021-02-28',\n",
      "               '2021-03-31'],\n",
      "              dtype='datetime64[ns]', freq='M')\n"
     ]
    }
   ],
   "source": [
    "# 更改日期频率\n",
    "import pandas as pd\n",
    "datelist = pd.date_range('2020/11/21', periods=5,freq='M') # freq是指定频率为M(月)\n",
    "print(datelist)"
   ]
  },
  {
   "cell_type": "code",
   "execution_count": 5,
   "metadata": {},
   "outputs": [
    {
     "name": "stdout",
     "output_type": "stream",
     "text": [
      "DatetimeIndex(['2011-11-03', '2011-11-04', '2011-11-07', '2011-11-08',\n",
      "               '2011-11-09'],\n",
      "              dtype='datetime64[ns]', freq='B')\n"
     ]
    }
   ],
   "source": [
    "#bdate_range() 是表示商业日期范围，不同于date_range() ,他不包括星期六和星期天\n",
    "import pandas as pd\n",
    "datelist = pd.bdate_range('2011/11/03', periods=5)\n",
    "print(datelist) # 观察到11月3日以后，日期跳至11月6日，不包括4日和5日(因为它们是周六和周日)。\n",
    "\n",
    "\n"
   ]
  },
  {
   "cell_type": "code",
   "execution_count": 6,
   "metadata": {},
   "outputs": [
    {
     "name": "stdout",
     "output_type": "stream",
     "text": [
      "DatetimeIndex(['2017-11-01', '2017-11-02', '2017-11-03', '2017-11-04',\n",
      "               '2017-11-05'],\n",
      "              dtype='datetime64[ns]', freq='D')\n"
     ]
    }
   ],
   "source": [
    "'''\n",
    "像date_range和bdate_range这样的便利函数利用了各种频率别名。\n",
    "date_range的默认频率是日历中的自然日，而bdate_range的默认频率是工作日\n",
    "'''\n",
    "\n",
    "import pandas as pd\n",
    "start = pd.datetime(2017, 11, 1)\n",
    "end = pd.datetime(2017, 11, 5)\n",
    "dates = pd.date_range(start, end)\n",
    "print(dates)"
   ]
  },
  {
   "cell_type": "code",
   "execution_count": null,
   "metadata": {},
   "outputs": [],
   "source": []
  }
 ],
 "metadata": {
  "kernelspec": {
   "display_name": "Python 3",
   "language": "python",
   "name": "python3"
  },
  "language_info": {
   "codemirror_mode": {
    "name": "ipython",
    "version": 3
   },
   "file_extension": ".py",
   "mimetype": "text/x-python",
   "name": "python",
   "nbconvert_exporter": "python",
   "pygments_lexer": "ipython3",
   "version": "3.6.4"
  }
 },
 "nbformat": 4,
 "nbformat_minor": 2
}
